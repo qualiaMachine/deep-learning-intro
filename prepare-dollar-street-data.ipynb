{
 "cells": [
  {
   "cell_type": "markdown",
   "id": "17b0c3c9-f03b-4378-9713-87cc6522729f",
   "metadata": {},
   "source": [
    "# Prepare dollar street dataset for deep learning"
   ]
  },
  {
   "cell_type": "code",
   "execution_count": 1,
   "id": "06be0473-4bc4-467c-8365-fe8879bf9664",
   "metadata": {},
   "outputs": [],
   "source": [
    "from PIL import Image\n",
    "import pandas as pd\n",
    "import pathlib\n",
    "import numpy as np\n",
    "import matplotlib.pyplot as plt"
   ]
  },
  {
   "cell_type": "markdown",
   "id": "e790950b-b28f-4d02-b5f6-f5bde1dddce0",
   "metadata": {},
   "source": [
    "## Load data\n",
    "Download the data from https://www.kaggle.com/datasets/mlcommons/the-dollar-street-dataset. Note that it is 101GB!"
   ]
  },
  {
   "cell_type": "code",
   "execution_count": 2,
   "id": "7c14ddc6-9187-492e-8901-053658a9c618",
   "metadata": {},
   "outputs": [],
   "source": [
    "DATA_FOLDER = pathlib.Path('../data/dataset_dollarstreet/') # change to location where you stored the data"
   ]
  },
  {
   "cell_type": "markdown",
   "id": "0ddc6d1b-10cc-4159-b04f-106f229aeca1",
   "metadata": {},
   "source": [
    "### Show example image"
   ]
  },
  {
   "cell_type": "code",
   "execution_count": 4,
   "id": "341ee5ff-7683-4d95-94dc-c0222fc4caba",
   "metadata": {},
   "outputs": [
    {
     "data": {
      "image/jpeg": "[encoded data removed]",
      "image/png": "[encoded data removed]",
      "text/plain": [
       "<PIL.Image.Image image mode=RGB size=64x64>"
      ]
     },
     "metadata": {},
     "output_type": "display_data"
    }
   ],
   "source": [
    "example_filepath = DATA_FOLDER / 'assets/5d4bde20cf0b3a0f3f3359fb/5d4bde20cf0b3a0f3f3359fb.jpg'\n",
    "image = Image.open(example_filepath)\n",
    "image = image.resize((64, 64))\n",
    "display(image)"
   ]
  },
  {
   "cell_type": "markdown",
   "id": "fdaff052-e330-476a-8b07-1606a921f2d3",
   "metadata": {},
   "source": [
    "## Prepare labels\n",
    "1. Only take examples with one imagenet_synonym label\n",
    "2. Use only examples with the 10 most frequently occuring labels"
   ]
  },
  {
   "cell_type": "code",
   "execution_count": 5,
   "id": "8a41d87c-830c-4358-838f-1e7f37952638",
   "metadata": {},
   "outputs": [],
   "source": [
    "df = pd.read_csv(DATA_FOLDER / 'images_v2_imagenet_test.csv', converters={'imagenet_synonyms': eval})"
   ]
  },
  {
   "cell_type": "code",
   "execution_count": 6,
   "id": "72fbbda4-7638-424a-810d-8cd3f6d8f365",
   "metadata": {},
   "outputs": [],
   "source": [
    "# Take only rows where we have one label (to simplify the problem to multiclass not multilabel classification)\n",
    "df_selection = df[df['imagenet_synonyms'].apply(len) == 1]"
   ]
  },
  {
   "cell_type": "code",
   "execution_count": 7,
   "id": "65d3adae-9189-4bd0-8b10-de5311d80cf8",
   "metadata": {},
   "outputs": [
    {
     "data": {
      "text/plain": [
       "4308"
      ]
     },
     "execution_count": 7,
     "metadata": {},
     "output_type": "execute_result"
    }
   ],
   "source": [
    "len(df)"
   ]
  },
  {
   "cell_type": "code",
   "execution_count": 8,
   "id": "3579ff89-02ef-4177-9d01-a1c06cefe426",
   "metadata": {},
   "outputs": [
    {
     "data": {
      "text/plain": [
       "3772"
      ]
     },
     "execution_count": 8,
     "metadata": {},
     "output_type": "execute_result"
    }
   ],
   "source": [
    "len(df_selection)"
   ]
  },
  {
   "cell_type": "code",
   "execution_count": 9,
   "id": "7cb520fe-a93b-4445-a526-35d6d75695fa",
   "metadata": {},
   "outputs": [
    {
     "name": "stderr",
     "output_type": "stream",
     "text": [
      "/var/folders/ff/lzvrl_f53bl3fwlbvnsw4f840000gn/T/ipykernel_58901/1875909903.py:1: SettingWithCopyWarning: \n",
      "A value is trying to be set on a copy of a slice from a DataFrame.\n",
      "Try using .loc[row_indexer,col_indexer] = value instead\n",
      "\n",
      "See the caveats in the documentation: https://pandas.pydata.org/pandas-docs/stable/user_guide/indexing.html#returning-a-view-versus-a-copy\n",
      "  df_selection['label'] = df_selection['imagenet_synonyms'].apply(lambda x: x[0])\n"
     ]
    }
   ],
   "source": [
    "df_selection['label'] = df_selection['imagenet_synonyms'].apply(lambda x: x[0])"
   ]
  },
  {
   "cell_type": "code",
   "execution_count": 10,
   "id": "5a3adbdc-a9fa-40b8-bbf8-e00dcba994d0",
   "metadata": {},
   "outputs": [],
   "source": [
    "df_10 = df_selection[df_selection['label'].isin(df_selection['label'].value_counts()[:10].index)]"
   ]
  },
  {
   "cell_type": "markdown",
   "id": "ed8c28fa-fe82-4f17-8565-89cf3676fa01",
   "metadata": {},
   "source": [
    "## Prepare images\n",
    "1. Downscale to 64 x 64 pixels\n",
    "2. Store as numpy array"
   ]
  },
  {
   "cell_type": "code",
   "execution_count": 11,
   "id": "75c394cd-1276-4ce0-96b4-aabed5518d51",
   "metadata": {},
   "outputs": [],
   "source": [
    "images_matrix = np.zeros((len(df_10), 64, 64, 3), dtype='int32')\n",
    "for i, (_, row) in enumerate(df_10[['label', 'imageRelPath']].iterrows()):\n",
    "    filepath = DATA_FOLDER / row['imageRelPath']\n",
    "    image = Image.open(filepath)\n",
    "    image = image.resize((64, 64))\n",
    "    data = np.array(image, dtype='int32')\n",
    "    images_matrix[i, :, :, :] = data"
   ]
  },
  {
   "cell_type": "markdown",
   "id": "3d038632-ff1d-444a-977e-247f9b6f4f4a",
   "metadata": {},
   "source": [
    "## Prepare data for training"
   ]
  },
  {
   "cell_type": "code",
   "execution_count": 12,
   "id": "a1da8602-3820-4550-9ad3-0bfa5d887d79",
   "metadata": {},
   "outputs": [],
   "source": [
    "from sklearn.model_selection import train_test_split\n",
    "train_images, val_images, train_labels, val_labels = train_test_split(\n",
    "    images_matrix, df_10['label'].reset_index(drop=True), stratify=df_10['label'])"
   ]
  },
  {
   "cell_type": "code",
   "execution_count": 13,
   "id": "02ff5278-0d21-4ef7-b423-cf53915b94cb",
   "metadata": {},
   "outputs": [],
   "source": [
    "from sklearn.preprocessing import LabelEncoder\n",
    "encoder = LabelEncoder().fit(train_labels)\n",
    "train_labels = encoder.transform(train_labels)\n",
    "val_labels = encoder.transform(val_labels)"
   ]
  },
  {
   "cell_type": "code",
   "execution_count": 14,
   "id": "465fe7e9-1026-414d-acb9-174fd2718fbc",
   "metadata": {},
   "outputs": [
    {
     "data": {
      "text/html": [
       "<div>\n",
       "<style scoped>\n",
       "    .dataframe tbody tr th:only-of-type {\n",
       "        vertical-align: middle;\n",
       "    }\n",
       "\n",
       "    .dataframe tbody tr th {\n",
       "        vertical-align: top;\n",
       "    }\n",
       "\n",
       "    .dataframe thead th {\n",
       "        text-align: right;\n",
       "    }\n",
       "</style>\n",
       "<table border=\"1\" class=\"dataframe\">\n",
       "  <thead>\n",
       "    <tr style=\"text-align: right;\">\n",
       "      <th></th>\n",
       "      <th>label</th>\n",
       "      <th>index</th>\n",
       "    </tr>\n",
       "  </thead>\n",
       "  <tbody>\n",
       "    <tr>\n",
       "      <th>0</th>\n",
       "      <td>day bed</td>\n",
       "      <td>0</td>\n",
       "    </tr>\n",
       "    <tr>\n",
       "      <th>1</th>\n",
       "      <td>dishrag</td>\n",
       "      <td>1</td>\n",
       "    </tr>\n",
       "    <tr>\n",
       "      <th>2</th>\n",
       "      <td>plate</td>\n",
       "      <td>2</td>\n",
       "    </tr>\n",
       "    <tr>\n",
       "      <th>3</th>\n",
       "      <td>running shoe</td>\n",
       "      <td>3</td>\n",
       "    </tr>\n",
       "    <tr>\n",
       "      <th>4</th>\n",
       "      <td>soap dispenser</td>\n",
       "      <td>4</td>\n",
       "    </tr>\n",
       "    <tr>\n",
       "      <th>5</th>\n",
       "      <td>street sign</td>\n",
       "      <td>5</td>\n",
       "    </tr>\n",
       "    <tr>\n",
       "      <th>6</th>\n",
       "      <td>table lamp</td>\n",
       "      <td>6</td>\n",
       "    </tr>\n",
       "    <tr>\n",
       "      <th>7</th>\n",
       "      <td>tile roof</td>\n",
       "      <td>7</td>\n",
       "    </tr>\n",
       "    <tr>\n",
       "      <th>8</th>\n",
       "      <td>toilet seat</td>\n",
       "      <td>8</td>\n",
       "    </tr>\n",
       "    <tr>\n",
       "      <th>9</th>\n",
       "      <td>washing machine</td>\n",
       "      <td>9</td>\n",
       "    </tr>\n",
       "  </tbody>\n",
       "</table>\n",
       "</div>"
      ],
      "text/plain": [
       "             label  index\n",
       "0          day bed      0\n",
       "1          dishrag      1\n",
       "2            plate      2\n",
       "3     running shoe      3\n",
       "4   soap dispenser      4\n",
       "5      street sign      5\n",
       "6       table lamp      6\n",
       "7        tile roof      7\n",
       "8      toilet seat      8\n",
       "9  washing machine      9"
      ]
     },
     "execution_count": 14,
     "metadata": {},
     "output_type": "execute_result"
    }
   ],
   "source": [
    "pd.DataFrame({'label': encoder.classes_, 'index': encoder.transform(encoder.classes_)})"
   ]
  },
  {
   "cell_type": "markdown",
   "id": "464ab03b-9546-4396-850a-df311a0c44d7",
   "metadata": {},
   "source": [
    "## Save data"
   ]
  },
  {
   "cell_type": "code",
   "execution_count": 15,
   "id": "7713a0ab-9a34-42f7-a5db-a369e78eb98f",
   "metadata": {},
   "outputs": [],
   "source": [
    "np.save(DATA_FOLDER / 'train_images.npy', train_images)\n",
    "np.save(DATA_FOLDER / 'test_images.npy', val_images)\n",
    "np.save(DATA_FOLDER / 'train_labels.npy', train_labels)\n",
    "np.save(DATA_FOLDER / 'test_labels.npy', val_labels)"
   ]
  },
  {
   "cell_type": "code",
   "execution_count": null,
   "id": "7dffbd36-1071-4a1a-99fa-8e9fc6d76ac6",
   "metadata": {},
   "outputs": [],
   "source": []
  }
 ],
 "metadata": {
  "kernelspec": {
   "display_name": "Python 3 (ipykernel)",
   "language": "python",
   "name": "python3"
  },
  "language_info": {
   "codemirror_mode": {
    "name": "ipython",
    "version": 3
   },
   "file_extension": ".py",
   "mimetype": "text/x-python",
   "name": "python",
   "nbconvert_exporter": "python",
   "pygments_lexer": "ipython3",
   "version": "3.11.7"
  }
 },
 "nbformat": 4,
 "nbformat_minor": 5
}
